{
 "cells": [
  {
   "cell_type": "markdown",
   "metadata": {},
   "source": [
    "# Image compression using K-means clustering\n",
    "\n",
    "\n",
    "## Preface\n",
    "\n",
    "Nén ảnh là một yêu cầu quan trọng trong việc lưu trữ hình ảnh và giảm thiểu kích thức lưu trữ. Trong bài viết này, mình note lại phương pháp mình đã thực hiện để nén ảnh thông qua phương pháp phân cụm K-means, là một trong số những thuật toán học không có giám sát (**unsupervised learning**) \n",
    "\n",
    "Trong tấm ảnh màu, mỗi điểm ảnh được biểu diễn bằng 3 bytes chứa các giá trị RGB mang nghĩa là cường độ của Red, Green và Blue trong mỗi pixel.\n",
    "\n",
    "## Approach\n",
    "\n",
    "K-means cluster sẽ nhóm những điểm ảnh gần nhau lại với nhau thành k cụm có màu khác nhau theo giá trị RGB (ví dụ k = 8). Do đó, mỗi center của cụm đại diện cho màu của tất cả những điểm trong cụm đó.\n",
    "\n",
    "## Implementation\n",
    "\n"
   ]
  },
  {
   "cell_type": "code",
   "execution_count": 1,
   "metadata": {},
   "outputs": [],
   "source": [
    "# import các thư viên cần thiêt\n",
    "\n",
    "from PIL import Image\n",
    "import numpy as np\n",
    "from sklearn.cluster import KMeans\n",
    "\n"
   ]
  },
  {
   "cell_type": "code",
   "execution_count": 2,
   "metadata": {},
   "outputs": [],
   "source": [
    "# Load anh, hien thi\n",
    "\n",
    "image = Image.open('image2.jpg')\n",
    "image.show()"
   ]
  },
  {
   "cell_type": "markdown",
   "metadata": {},
   "source": [
    "![Cat Image](image2.jpg)"
   ]
  },
  {
   "cell_type": "code",
   "execution_count": 3,
   "metadata": {},
   "outputs": [],
   "source": [
    "# Xu ly voi du lieu anh \n",
    "\n",
    "image = np.array(image)  # Chuyen sang np array\n",
    "shapeRoot = image.shape\n",
    "\n",
    "# Reshape lai matrix, ta phan cum theo so diem anh ma moi diem co gia tri RGB (3 features)\n",
    "\n",
    "image_feed = image.reshape((shapeRoot[0] * shapeRoot[1]), shapeRoot[2])\n",
    "\n",
    "# Ap kmeans vao de phan cum\n",
    "\n",
    "kmeans = KMeans(n_clusters=8, max_iter=300, random_state=0).fit(image_feed)\n",
    "\n",
    "# Xay dung lai mang hinh anh roi hien thi\n",
    "\n",
    "rs_list = [kmeans.cluster_centers_[i] for i in (kmeans.labels_)]\n",
    "rs_list = np.array(rs_list)\n",
    "rs_list = rs_list.reshape(shapeRoot)\n",
    "\n",
    "rs_list = rs_list.astype(\"uint8\")\n",
    "img_end = Image.fromarray(rs_list, 'RGB')\n",
    "img_end.save('outimg2.jpg')\n",
    "img_end.show()"
   ]
  },
  {
   "cell_type": "markdown",
   "metadata": {},
   "source": [
    "Ảnh kết quả mà ta thu được"
   ]
  },
  {
   "cell_type": "markdown",
   "metadata": {},
   "source": [
    "![Image Result](outimg2.jpg)"
   ]
  },
  {
   "cell_type": "markdown",
   "metadata": {},
   "source": [
    "## Conclusion\n",
    "\n",
    "Do số màu ảnh được giảm xuống nên là số bit được sử dụng để tạo màu giảm xuống còn 3 bit (Do có 8 màu). Vì thế kích thước của tấm ảnh được giảm đi. Khi áp dụng với tấm ảnh độ phân giải cao hơn, kích thước của tấm ảnh được giảm đi một nửa hoặc nhiều hơn.\n",
    "\n",
    "Trong tấm hình trên những màu được sử dụng có bộ màu RGB là:"
   ]
  },
  {
   "cell_type": "markdown",
   "metadata": {},
   "source": [
    "**[ 28   9  11]**\n",
    "![](28911.png)\n",
    "\n",
    "**[ 50  42  42]**\n",
    "![](504242.png)\n",
    "\n",
    "**[ 74  76  76]**\n",
    "![](747676.png)\n",
    "\n",
    "**[108 110 106]**\n",
    "![](108110106.png)\n",
    "\n",
    "**[126  80  42]**\n",
    "![](1268042.png)\n",
    "\n",
    "**[167 155 135]**\n",
    "![](167155135.png)\n",
    "\n",
    "**[203 197 178]**\n",
    "![](203197178.png)\n",
    "\n",
    "**[242 243 237]**\n",
    "![](242243237.png)"
   ]
  },
  {
   "cell_type": "markdown",
   "metadata": {},
   "source": [
    "Trên đây là những gì mình tìm hiểu về K-means trong việc nén ảnh. Mọi người thấy hữu ích thì cho mình 1 sao và 1 follow nhé !!!"
   ]
  },
  {
   "cell_type": "code",
   "execution_count": null,
   "metadata": {},
   "outputs": [],
   "source": []
  }
 ],
 "metadata": {
  "kernelspec": {
   "display_name": "env3",
   "language": "python",
   "name": "env3"
  },
  "language_info": {
   "codemirror_mode": {
    "name": "ipython",
    "version": 3
   },
   "file_extension": ".py",
   "mimetype": "text/x-python",
   "name": "python",
   "nbconvert_exporter": "python",
   "pygments_lexer": "ipython3",
   "version": "3.6.9"
  }
 },
 "nbformat": 4,
 "nbformat_minor": 2
}
