{
 "cells": [
  {
   "cell_type": "markdown",
   "metadata": {},
   "source": [
    "# K-Means Clustering \n",
    "\n",
    "Đây là cách mình cài đặt thuật toán K-means dựa vào các bước thực hiện như sau:\n",
    "\n",
    "1. Đầu tiên ta khởi tạo k điểm ngẫu nhiên, được gọi là các means\n",
    "2. Sau đó ta phân loại các điểm trong tập hợp điểm cần phân loại về cụm mean nào gần nó nhất.\n",
    "3. Ta cập nhật laị vị trí cho các centroid của chúng ta bằng hàm tính trung bình thôi.\n",
    "4. Lặp lại các bước 2 -> 3 cho đến khi một điều kiện ràng buộc được thỏa mãn\n",
    "\n",
    "Chú thích: Điều kiện ràng buộc tại bước 4 có thể là: đạt tới số lần lặp tối đa mà mình quy định trước, có thể là khi nào mà các cụm không còn có sự thay đổi nữa <=> không còn sự dịch chuyển của các điểm từ nhóm này sang nhóm khác.\n",
    "\n",
    "Thuật toán K-Means ở đây tất nhiên mình sẽ phục vụ cho bài toán nén ảnh sao cho chỉ dùng 8 màu thôi.\n",
    "\n",
    "Từ những ý tưởng đó ta cho ra đoạn code bên dưới:\n",
    "\n"
   ]
  },
  {
   "cell_type": "code",
   "execution_count": 1,
   "metadata": {},
   "outputs": [],
   "source": [
    "# Import các thư viện cần thiết\n",
    "\n",
    "import numpy as np\n",
    "from PIL import Image \n",
    "import os"
   ]
  },
  {
   "cell_type": "code",
   "execution_count": 8,
   "metadata": {},
   "outputs": [],
   "source": [
    "# Hàm đọc ảnh --- Trả về mảng numpy array\n",
    "\n",
    "def read_image(name):\n",
    "    dir_path = os.path.dirname(os.path.realpath(__file__))\n",
    "    image = Image.open(dir_path + '/' + name)\n",
    "    image = np.array(image)\n",
    "    return image"
   ]
  },
  {
   "cell_type": "code",
   "execution_count": 3,
   "metadata": {},
   "outputs": [],
   "source": [
    "# Hàm thực hiện bước 1 - Khơỉ tạo các cụm means ---- Trả về \n",
    "# mảng chứa các điểm ảnh và các means ta chọn được \n",
    "\n",
    "def initialize_means(img, cluster):\n",
    "    # reshape ảnh về (samples, features)\n",
    "    points = np.reshape(img, (img.shape[0] * img.shape[1], img.shape[2]))\n",
    "    samples, features = points.shape\n",
    "\n",
    "    # means la mang cua mean cac centroid\n",
    "    means = np.zeros((cluster, features))\n",
    "\n",
    "    # Random khoi tao gia tri cho cac means\n",
    "    for _ in range(cluster):\n",
    "        rand = np.random.randint(samples)\n",
    "        means[_] = points[rand]\n",
    "    return points, means"
   ]
  },
  {
   "cell_type": "code",
   "execution_count": 4,
   "metadata": {},
   "outputs": [],
   "source": [
    "# Hàm tính khoảng cách Euclide giữa 2 điểm p1 và p2 \n",
    "def distance(p1, p2):\n",
    "    '''Tinh khoảng cách euclide giữa 2 điểm p1 và p2 (thực ra mỗi điểm chỉ có 3 features thôi) '''\n",
    "    dist = np.sqrt(np.sum(np.square(p1 - p2)))\n",
    "    return dist"
   ]
  },
  {
   "cell_type": "code",
   "execution_count": 5,
   "metadata": {},
   "outputs": [],
   "source": [
    "# Hàm k-means chính của chúng ta -- trong này thực hiện các bước 2, 3, 4\n",
    "\n",
    "def k_means(points, means, clusters, n_iter=100):\n",
    "    samples, features = points.shape\n",
    "\n",
    "    # Gia tri index ma moi diem no thuoc vao nhom nao\n",
    "    index = np.zeros(samples)\n",
    "\n",
    "    # K-Means algorithm\n",
    "    while n_iter > 0:\n",
    "        # Xet khoang cach moi diem trong tap points toi tung means, thang nao nho hon thi lay chi so cua mean do\n",
    "        for j in range(len(points)):\n",
    "            minV = 1000000\n",
    "\n",
    "            for k in range(clusters):\n",
    "                x1 = points[j]\n",
    "                x2 = means[k]\n",
    "\n",
    "                if distance(x1, x2) < minV:\n",
    "                    minV = distance(x1, x2)\n",
    "                    index[j] = k\n",
    "\n",
    "        # Cap nhat lai trong so cho moi thang means\n",
    "        for k in range(clusters):\n",
    "            sum = np.zeros(features)\n",
    "            count = 0\n",
    "            for j in range(len(points)):\n",
    "                if index[j] == k:\n",
    "                    count += 1\n",
    "                    sum = np.add(sum, points[j])\n",
    "            means[k] = sum / count\n",
    "        n_iter -= 1\n",
    "    return means, index\n"
   ]
  },
  {
   "cell_type": "code",
   "execution_count": 6,
   "metadata": {},
   "outputs": [],
   "source": [
    "# Hàm thực hiện việc lấy kết quả việc phân loại để dựng hình ảnh\n",
    "def compress_image(means, index, img):\n",
    "    '''Dua tren nhung thong so sau khi phan loại, hinh thanh lai buc hinh'''\n",
    "    imgShape = img.shape\n",
    "    centroid = np.array(means)\n",
    "\n",
    "    # Tái tạo lại 2D hình ảnh\n",
    "    img_arr = [means[i] for i in(index.astype(int))]\n",
    "    img_arr = np.array(img_arr)\n",
    "    img_arr = img_arr.astype(\"uint8\")\n",
    "\n",
    "    img_rs = img_arr.reshape(imgShape)\n",
    "    print('Chiều của ảnh mới ra:', img_rs.shape)\n",
    "    img_end = Image.fromarray(img_rs, 'RGB')\n",
    "    dir_path = os.path.dirname(os.path.realpath(__file__))\n",
    "    img_end.save(dir_path + '/outCat.jpg')\n",
    "    img_end.show()"
   ]
  },
  {
   "cell_type": "markdown",
   "metadata": {},
   "source": [
    "\n",
    "Và thành quả mà mình đạt được sau 5 iteration\n",
    "\n",
    "**INPUT**\n",
    "![Cat Image](cat.jpg)\n",
    "\n",
    "**OUTPUT**\n",
    "![Cat Out](outCat.jpg)\n",
    "\n",
    "----------------------------------------------------------------------\n",
    "\n",
    "**INPUT**\n",
    "![Fox Image](fox.jpg)\n",
    "\n",
    "**OUTPUT**\n",
    "![Fox Out](outFox.jpg)"
   ]
  }
 ],
 "metadata": {
  "kernelspec": {
   "display_name": "env3",
   "language": "python",
   "name": "env3"
  },
  "language_info": {
   "codemirror_mode": {
    "name": "ipython",
    "version": 3
   },
   "file_extension": ".py",
   "mimetype": "text/x-python",
   "name": "python",
   "nbconvert_exporter": "python",
   "pygments_lexer": "ipython3",
   "version": "3.6.9"
  }
 },
 "nbformat": 4,
 "nbformat_minor": 2
}
